{
 "cells": [
  {
   "cell_type": "raw",
   "metadata": {},
   "source": [
    "---\n",
    "title: \"Thomas Fire Air and Land Quality Consequences\"\n",
    "description: \"The goal of this analysis is to analyze the effects of the Thomas Fire on Land and Air quality using EPA air quality data, landsat satellite data, and California Fire Perimeter data.\"\n",
    "author:\n",
    "  - name: Hope Hahn\n",
    "    url: https://h-hahn.github.io/\n",
    "    affiliation: Master of Environmental Data Science Program\n",
    "    affiliation-url: https://ucsb-meds.github.io/\n",
    "date: 12-13-2023\n",
    "citation:\n",
    "  url: https://h-hahn.github.io/blog/2023-12-13-thomas-fire\n",
    "format:\n",
    "    html:\n",
    "        code-fold: true\n",
    "---"
   ]
  },
  {
   "cell_type": "markdown",
   "id": "aa241005",
   "metadata": {},
   "source": [
    "#### Access the whole analysis here: [Github Repository!](https://github.com/h-hahn/eds220-thomas-fire)"
   ]
  },
  {
   "cell_type": "markdown",
   "id": "69135603",
   "metadata": {},
   "source": [
    "## About\n",
    "\n",
    "![Aerial view of Thomas Fire via NASA](california_vir_2017348.jpg)\n",
    "\n",
    "In December 2017, the Thomas Fire spread across Santa Barbara and Ventura counties until January 2018. This fire spread over 281,893 acres, and caused large amounts of damage in these areas. of The following analysis looks at the burn scars of the Thomas fire with false color imagery as well as the Air Quality Index over time; including the time period of the Thomas fire in December 2017. The datasets used in this analysis include: air quality data from the US Environmental Protection Agency, Landsat satellite data, and California fire perimeter data.\n",
    "\n",
    "### The datasets:\n",
    "\n",
    "[California Fire Perimeter](https://gis.data.ca.gov/datasets/CALFIRE-Forestry::california-fire-perimeters-all-1/about) - A shapefile of fire perimeters in California during 2017. The complete file can be accessed in the CA state geoportal.\n",
    "\n",
    "[Air Quality Index](https://aqs.epa.gov/aqsweb/airdata/download_files.html#AQI) - Air Quality Index data from the US Environmental Protection Agency.\n",
    "\n",
    "[Landsat Satellite Data](https://planetarycomputer.microsoft.com/dataset/landsat-c2-l2) - A simplified collection of bands (red, green, blue, near-infrared and shortwave infrared) from the Landsat Collection 2 Level-2 atmosperically corrected surface reflectance data, collected by the Landsat 8 satellite. The data was accessed and pre-processed in the Microsoft Planetary Computer to remove data outside land and coarsen the spatial resolution (Landsat Collection in MPC). Data should be used for visualization purposes only.\n",
    "\n",
    "### Highlights of analysis:\n",
    "* Fetch data from US Environmental Protection Agency, Landsat 8 satellite, and California Fire Perimeters\n",
    "* Prepare Air Quality Index data for plotting\n",
    "* Prepare Landsat and California Perimeter data for plotting\n",
    "* Visualize Air Quality data from 2017-2018\n",
    "* Visualize Thomas Fire perimeter on False Color Imagery map\n",
    "\n",
    "\n",
    "## The Analysis\n",
    "***Import Libraries***\n"
   ]
  },
  {
   "cell_type": "code",
   "execution_count": null,
   "id": "63351288",
   "metadata": {},
   "outputs": [],
   "source": [
    "import pandas as pd\n",
    "import os\n",
    "import rioxarray as rioxr\n",
    "import geopandas as gpd\n",
    "import matplotlib.pyplot as plt"
   ]
  },
  {
   "cell_type": "markdown",
   "id": "c04cbcc8",
   "metadata": {},
   "source": [
    "### Data Wrangling and Tidying\n",
    "***Import Datasets***"
   ]
  },
  {
   "cell_type": "code",
   "execution_count": null,
   "id": "d0b09ac8",
   "metadata": {},
   "outputs": [],
   "source": [
    "# read in data for 2017 daily AQI by county\n",
    "aqi_17 = pd.read_csv('https://aqs.epa.gov/aqsweb/airdata/daily_aqi_by_county_2017.zip')\n",
    "\n",
    "# read data for 2018 Daily AQI by county\n",
    "aqi_18 = pd.read_csv('https://aqs.epa.gov/aqsweb/airdata/daily_aqi_by_county_2018.zip')\n",
    "\n",
    "# import landsat file\n",
    "landsat1 = os.path.join(os.getcwd(),'data','landsat8-2018-01-26-sb-simplified.nc')\n",
    "landsat = rioxr.open_rasterio(landsat1)\n",
    "\n",
    "# import fire perimiters dataset\n",
    "cal_fire = gpd.read_file('data/California_Fire_Perimeters_2017')"
   ]
  },
  {
   "cell_type": "markdown",
   "id": "cfec4967",
   "metadata": {},
   "source": [
    "The first step of this analysis was to read in the data. Air quality index datasets (by county) for 2017 and 2018 were read in from .zip files accessed through the US EPA. I used `rioxarray.open_rasterio()` to read in the landsat satellite data and `geopandas.read_file()` to read in the California fire perimeters data.\n",
    "\n",
    "Then the datasets needed to be cleaned to prepare for visualization:"
   ]
  },
  {
   "cell_type": "markdown",
   "id": "0a67684e",
   "metadata": {},
   "source": [
    "***Prepare AQI Data***"
   ]
  },
  {
   "cell_type": "code",
   "execution_count": null,
   "id": "98773af2",
   "metadata": {},
   "outputs": [],
   "source": [
    "# preparing aqi data\n",
    "\n",
    "# glue dataframes together\n",
    "aqi = pd.concat([aqi_17, aqi_18])\n",
    "\n",
    "# re-assign the column names - .str.lower() makes them lower case\n",
    "aqi.columns = aqi.columns.str.lower()\n",
    "\n",
    "#  re-assign the column names again - .str.replace(' ','_') replaces the space for _\n",
    "aqi.columns = aqi.columns.str.replace(' ','_')\n",
    "\n",
    "# select data only from Santa Barbara County\n",
    "aqi_sb = aqi[ aqi['county_name'] == 'Santa Barbara']\n",
    "\n",
    "# remove state name, county name, state code, and county_code columns\n",
    "aqi_sb = aqi_sb.drop(columns = ['state_name', 'county_name', 'state_code', 'county_code'])\n",
    "\n",
    "# 1. update date column of aqi_sb to be datetime object\n",
    "aqi_sb['date'] = pd.to_datetime(aqi_sb['date']) \n",
    "\n",
    "# 2. update the index of aqi_sb to be the date column\n",
    "aqi_sb.set_index('date', inplace = True)\n",
    "\n",
    "# 5 day rolling window calculation\n",
    "aqi_sb.aqi.rolling('5D').mean()\n",
    "\n",
    "# add five_day_average to aqi_sb dataframe\n",
    "aqi_sb['five_day_average'] = aqi_sb.aqi.rolling('5D').mean()"
   ]
  },
  {
   "cell_type": "markdown",
   "id": "aec3dfd8",
   "metadata": {},
   "source": [
    "The 2017 and 2018 AQI datasets were read in as two separate objects, so the first step was to combine both of the datasets. Additionally, the column names were not in lower snake case, so, to streamline any next steps, I reassigned column names to lower snake case. We are only analyzing Santa Barbara county to understand the impacts of the Thomas Fire, so it was important to filter for data only in Santa Barbara county. Because we are only looking at one county, the state name, county name, state code, and county codes were unecessary, so they were dropped. The last steps to take were to convert the date column to be a `datetime` object and to calculate the five day rolling averages."
   ]
  },
  {
   "cell_type": "markdown",
   "id": "6e15613c",
   "metadata": {},
   "source": [
    "***Prepare Landsat & California Fire Perimeter Data***"
   ]
  },
  {
   "cell_type": "code",
   "execution_count": null,
   "id": "dd15d84c",
   "metadata": {},
   "outputs": [],
   "source": [
    "# drop band from landsat data\n",
    "landsat = landsat.squeeze().drop('band')\n",
    "\n",
    "# set california fire perimeter crs to landsat crs\n",
    "cal_fire = cal_fire.to_crs(landsat.rio.crs)\n",
    "\n",
    "# select for thomas fire perimeter\n",
    "thomas_fire = cal_fire[cal_fire['FIRE_NAME'] == 'THOMAS']"
   ]
  },
  {
   "cell_type": "markdown",
   "id": "11773782",
   "metadata": {},
   "source": [
    "The preparation for the Landsat and California fire perimeter data was much quicker. The Landsat satellite data had an extra dimension, so I dropped the 'band' dimension in order to make it 2D. I then converted the fire perimeter data to have the same CRS as the Landsat data and subsetted the perimeter data to include only the Thomas Fire perimeter."
   ]
  },
  {
   "cell_type": "markdown",
   "id": "688faa84",
   "metadata": {},
   "source": [
    "### Visualizations\n",
    "Using the prepared data, I plotted the AQI over time, as well as a false color image of the Thomas Fire Perimeter.\n",
    "\n",
    "***Daily AQI and 5-day Average***\n",
    "\n",
    "The following graph shows the daily air quality index and five day average of air quality index over time. We can see that there is a large peak at the end of 2017, which is when the Thomas Fire first began. We can infer that the Thomas Fire caused in increase in air quality index during this time."
   ]
  },
  {
   "cell_type": "code",
   "execution_count": null,
   "id": "35d16ced",
   "metadata": {},
   "outputs": [],
   "source": [
    "# plot daily AQI and 5-day average\n",
    "aqi_sb.plot(y = ['aqi', 'five_day_average'],\n",
    "            xlabel = 'Date',\n",
    "            title = 'AQI and AQI 5 day average over time')\n"
   ]
  },
  {
   "cell_type": "markdown",
   "id": "e64e8f6b",
   "metadata": {},
   "source": [
    "![Daily AQI and 5-day AQI Average over time](download.png)"
   ]
  },
  {
   "cell_type": "markdown",
   "id": "1bf542c9",
   "metadata": {},
   "source": [
    "***Thomas Fire Perimeter over False Color Image***\n",
    "\n",
    "The following plot shows the Thomas Fire perimeter, colored by false color imagery, and the Thomas Fire perimeter is bordered in black. The false color imagery shows a large burn scar in the area in which the Thomas fire occured."
   ]
  },
  {
   "cell_type": "code",
   "execution_count": null,
   "id": "6088e484",
   "metadata": {},
   "outputs": [],
   "source": [
    "\n",
    "# create thomas fire perimeter plot\n",
    "# create axis\n",
    "fig, ax = plt.subplots()\n",
    "\n",
    "# plot thomas fire perimeter\n",
    "thomas_fire.plot(ax = ax,\n",
    "                 facecolor=\"none\",\n",
    "                 edgecolor = 'black')\n",
    "\n",
    "# plot the false color image\n",
    "landsat[['swir22', 'nir08', 'red']].to_array().plot.imshow(robust = True)\n",
    "\n",
    "# set the title \n",
    "ax.set_title('Thomas Fire Perimeter in Santa Barbara/Ventura County (False Color Imagery)', \n",
    "             fontsize = 15,\n",
    "             x=0.5, y=1.1) # move title up\n",
    "\n",
    "# show plot\n",
    "plt.show()"
   ]
  },
  {
   "cell_type": "markdown",
   "id": "b83a2c06",
   "metadata": {},
   "source": [
    "![Thomas Fire Perimeter over False Color Image to visualize burn scar](download-1.png)"
   ]
  },
  {
   "cell_type": "markdown",
   "id": "611c585d",
   "metadata": {},
   "source": [
    "## References\n",
    "California Fire Perimeters (all). (n.d.). Retrieved November 29, 2023, from gis.data.ca.gov website: https://gis.data.ca.gov/datasets/CALFIRE-Forestry::california-fire-perimeters-all-1/about\n",
    "\n",
    "Environmental Protection Agency. (n.d.). AirData website file download page. EPA. https://aqs.epa.gov/aqsweb/airdata/download_files.html#AQI\n",
    "\n",
    "Microsoft Planetary Computer. Planetary Computer. (n.d.). https://planetarycomputer.microsoft.com/dataset/landsat-c2-l2"
   ]
  },
  {
   "cell_type": "markdown",
   "id": "73528f3a",
   "metadata": {},
   "source": []
  }
 ],
 "metadata": {
  "kernelspec": {
   "display_name": "Python 3 (ipykernel)",
   "language": "python",
   "name": "python3"
  },
  "language_info": {
   "codemirror_mode": {
    "name": "ipython",
    "version": 3
   },
   "file_extension": ".py",
   "mimetype": "text/x-python",
   "name": "python",
   "nbconvert_exporter": "python",
   "pygments_lexer": "ipython3",
   "version": "3.11.4"
  }
 },
 "nbformat": 4,
 "nbformat_minor": 5
}
